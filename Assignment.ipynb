{
 "cells": [
  {
   "cell_type": "markdown",
   "metadata": {},
   "source": [
    "<h1 style=\"text-align:center\">Data Structure and Algorithms</h1>"
   ]
  },
  {
   "cell_type": "markdown",
   "metadata": {},
   "source": [
    "<h3 style=\"text-align:center\">Computer Sceince Department</h3>"
   ]
  },
  {
   "cell_type": "markdown",
   "metadata": {},
   "source": [
    "<h4 style=\"margin-left:250px\" >Name:  Eyob Begashaw </h4>\n",
    "<h4 style=\"margin-left:250px\" >Id:   DBU1601165 </h4>\n",
    "<h4 style=\"margin-left:250px\" >My Github Address: <a>https://github.com/E-eyoab/DataSA/blob/main</a></h4>"
   ]
  },
  {
   "cell_type": "markdown",
   "metadata": {},
   "source": [
    "\n",
    "<p>To solve this problem, we need to generate student profiles and sort them using<b> three</b> different sorting algorithms:</p>\n",
    "<ul>\n",
    "  <li>Bubble Sort by ID,</li>\n",
    "  <li>Insertion Sort by name, </li>\n",
    "  <li>and Selection Sort by CGPA in descending order.</li>\n",
    "  </ul>\n",
    "  Each algorithm has its own advantages and disadvantages, which we will analyze.\n",
    "\n",
    "Approach\n",
    "Generate Student Profiles: Create a list of dictionaries where each dictionary represents a student with unique ID, name, department (randomly chosen between 'DS' and 'CS'), and CGPA (random float between 2.0 and 4.0).\n",
    "\n",
    "Bubble Sort by ID: Sort the list of students based on their IDs using the Bubble Sort algorithm, which repeatedly swaps adjacent elements if they are in the wrong order.\n",
    "\n",
    "Insertion Sort by Name: Sort the list alphabetically by student names using the Insertion Sort algorithm, which builds the sorted list one element at a time.\n",
    "\n",
    "Selection Sort by CGPA: Sort the list by CGPA in descending order using the Selection Sort algorithm, which selects the maximum element from the unsorted portion and places it at the correct position"
   ]
  },
  {
   "cell_type": "code",
   "execution_count": null,
   "metadata": {},
   "outputs": [],
   "source": []
  }
 ],
 "metadata": {
  "language_info": {
   "name": "python"
  }
 },
 "nbformat": 4,
 "nbformat_minor": 2
}
